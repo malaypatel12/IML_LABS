{
 "cells": [
  {
   "cell_type": "code",
   "execution_count": 1,
   "id": "bafcecf5",
   "metadata": {
    "_cell_guid": "b1076dfc-b9ad-4769-8c92-a6c4dae69d19",
    "_uuid": "8f2839f25d086af736a60e9eeb907d3b93b6e0e5",
    "execution": {
     "iopub.execute_input": "2023-11-09T09:56:29.333798Z",
     "iopub.status.busy": "2023-11-09T09:56:29.332111Z",
     "iopub.status.idle": "2023-11-09T09:56:29.749919Z",
     "shell.execute_reply": "2023-11-09T09:56:29.748657Z"
    },
    "papermill": {
     "duration": 0.426931,
     "end_time": "2023-11-09T09:56:29.752992",
     "exception": false,
     "start_time": "2023-11-09T09:56:29.326061",
     "status": "completed"
    },
    "tags": []
   },
   "outputs": [
    {
     "name": "stdout",
     "output_type": "stream",
     "text": [
      "/kaggle/input/nifty50-stock-market-data/HDFCBANK.csv\n",
      "/kaggle/input/nifty50-stock-market-data/GRASIM.csv\n",
      "/kaggle/input/nifty50-stock-market-data/WIPRO.csv\n",
      "/kaggle/input/nifty50-stock-market-data/stock_metadata.csv\n",
      "/kaggle/input/nifty50-stock-market-data/BPCL.csv\n",
      "/kaggle/input/nifty50-stock-market-data/INFY.csv\n",
      "/kaggle/input/nifty50-stock-market-data/LT.csv\n",
      "/kaggle/input/nifty50-stock-market-data/RELIANCE.csv\n",
      "/kaggle/input/nifty50-stock-market-data/BRITANNIA.csv\n",
      "/kaggle/input/nifty50-stock-market-data/INFRATEL.csv\n",
      "/kaggle/input/nifty50-stock-market-data/HEROMOTOCO.csv\n",
      "/kaggle/input/nifty50-stock-market-data/HINDUNILVR.csv\n",
      "/kaggle/input/nifty50-stock-market-data/TATAMOTORS.csv\n",
      "/kaggle/input/nifty50-stock-market-data/MM.csv\n",
      "/kaggle/input/nifty50-stock-market-data/HDFC.csv\n",
      "/kaggle/input/nifty50-stock-market-data/JSWSTEEL.csv\n",
      "/kaggle/input/nifty50-stock-market-data/TITAN.csv\n",
      "/kaggle/input/nifty50-stock-market-data/HINDALCO.csv\n",
      "/kaggle/input/nifty50-stock-market-data/AXISBANK.csv\n",
      "/kaggle/input/nifty50-stock-market-data/HCLTECH.csv\n",
      "/kaggle/input/nifty50-stock-market-data/ADANIPORTS.csv\n",
      "/kaggle/input/nifty50-stock-market-data/GAIL.csv\n",
      "/kaggle/input/nifty50-stock-market-data/NIFTY50_all.csv\n",
      "/kaggle/input/nifty50-stock-market-data/BAJAJFINSV.csv\n",
      "/kaggle/input/nifty50-stock-market-data/BAJFINANCE.csv\n",
      "/kaggle/input/nifty50-stock-market-data/ICICIBANK.csv\n",
      "/kaggle/input/nifty50-stock-market-data/ZEEL.csv\n",
      "/kaggle/input/nifty50-stock-market-data/ASIANPAINT.csv\n",
      "/kaggle/input/nifty50-stock-market-data/IOC.csv\n",
      "/kaggle/input/nifty50-stock-market-data/TATASTEEL.csv\n",
      "/kaggle/input/nifty50-stock-market-data/COALINDIA.csv\n",
      "/kaggle/input/nifty50-stock-market-data/NESTLEIND.csv\n",
      "/kaggle/input/nifty50-stock-market-data/DRREDDY.csv\n",
      "/kaggle/input/nifty50-stock-market-data/ONGC.csv\n",
      "/kaggle/input/nifty50-stock-market-data/EICHERMOT.csv\n",
      "/kaggle/input/nifty50-stock-market-data/UPL.csv\n",
      "/kaggle/input/nifty50-stock-market-data/SUNPHARMA.csv\n",
      "/kaggle/input/nifty50-stock-market-data/ULTRACEMCO.csv\n",
      "/kaggle/input/nifty50-stock-market-data/CIPLA.csv\n",
      "/kaggle/input/nifty50-stock-market-data/SHREECEM.csv\n",
      "/kaggle/input/nifty50-stock-market-data/VEDL.csv\n",
      "/kaggle/input/nifty50-stock-market-data/TCS.csv\n",
      "/kaggle/input/nifty50-stock-market-data/NTPC.csv\n",
      "/kaggle/input/nifty50-stock-market-data/MARUTI.csv\n",
      "/kaggle/input/nifty50-stock-market-data/KOTAKBANK.csv\n",
      "/kaggle/input/nifty50-stock-market-data/ITC.csv\n",
      "/kaggle/input/nifty50-stock-market-data/BAJAJ-AUTO.csv\n",
      "/kaggle/input/nifty50-stock-market-data/SBIN.csv\n",
      "/kaggle/input/nifty50-stock-market-data/INDUSINDBK.csv\n",
      "/kaggle/input/nifty50-stock-market-data/BHARTIARTL.csv\n",
      "/kaggle/input/nifty50-stock-market-data/TECHM.csv\n",
      "/kaggle/input/nifty50-stock-market-data/POWERGRID.csv\n"
     ]
    }
   ],
   "source": [
    "# This Python 3 environment comes with many helpful analytics libraries installed\n",
    "# It is defined by the kaggle/python Docker image: https://github.com/kaggle/docker-python\n",
    "# For example, here's several helpful packages to load\n",
    "\n",
    "import numpy as np # linear algebra\n",
    "import pandas as pd # data processing, CSV file I/O (e.g. pd.read_csv)\n",
    "\n",
    "# Input data files are available in the read-only \"../input/\" directory\n",
    "# For example, running this (by clicking run or pressing Shift+Enter) will list all files under the input directory\n",
    "\n",
    "import os\n",
    "for dirname, _, filenames in os.walk('/kaggle/input'):\n",
    "    for filename in filenames:\n",
    "        print(os.path.join(dirname, filename))\n",
    "\n",
    "# You can write up to 20GB to the current directory (/kaggle/working/) that gets preserved as output when you create a version using \"Save & Run All\" \n",
    "# You can also write temporary files to /kaggle/temp/, but they won't be saved outside of the current session"
   ]
  },
  {
   "cell_type": "code",
   "execution_count": 2,
   "id": "25a9e9fb",
   "metadata": {
    "execution": {
     "iopub.execute_input": "2023-11-09T09:56:29.761618Z",
     "iopub.status.busy": "2023-11-09T09:56:29.760307Z",
     "iopub.status.idle": "2023-11-09T09:56:31.206742Z",
     "shell.execute_reply": "2023-11-09T09:56:31.205540Z"
    },
    "papermill": {
     "duration": 1.453803,
     "end_time": "2023-11-09T09:56:31.209120",
     "exception": false,
     "start_time": "2023-11-09T09:56:29.755317",
     "status": "completed"
    },
    "tags": []
   },
   "outputs": [
    {
     "name": "stdout",
     "output_type": "stream",
     "text": [
      "Keys:\n",
      "dict_keys(['data', 'target', 'frame', 'target_names', 'DESCR', 'feature_names', 'filename', 'data_module'])\n",
      "\n",
      "Number of Rows and Columns:\n",
      "(150, 4)\n",
      "\n",
      "Feature Names:\n",
      "['sepal length (cm)', 'sepal width (cm)', 'petal length (cm)', 'petal width (cm)']\n"
     ]
    }
   ],
   "source": [
    "\n",
    "'''\n",
    "Name:- Bavarva Malay\n",
    "Enrollment:-216270307085\n",
    "\n",
    "'''\n",
    "import numpy as np # linear algebra\n",
    "import pandas as pd # data processing, CSV file I/O (e.g. pd.read_csv)\n",
    "\n",
    "# Import necessary libraries\n",
    "from sklearn import datasets\n",
    "\n",
    "# Load iris dataset\n",
    "data = datasets.load_iris()\n",
    "\n",
    "# Print the keys\n",
    "print(\"Keys:\")\n",
    "print(data.keys())     \n",
    "print(\"\\nNumber of Rows and Columns:\")\n",
    "print(data.data.shape)\n",
    "print(\"\\nFeature Names:\")\n",
    "print(data.feature_names)"
   ]
  },
  {
   "cell_type": "code",
   "execution_count": null,
   "id": "dc894087",
   "metadata": {
    "papermill": {
     "duration": 0.001702,
     "end_time": "2023-11-09T09:56:31.212907",
     "exception": false,
     "start_time": "2023-11-09T09:56:31.211205",
     "status": "completed"
    },
    "tags": []
   },
   "outputs": [],
   "source": []
  }
 ],
 "metadata": {
  "kaggle": {
   "accelerator": "none",
   "dataSources": [
    {
     "datasetId": 423609,
     "sourceId": 2179861,
     "sourceType": "datasetVersion"
    }
   ],
   "dockerImageVersionId": 30558,
   "isGpuEnabled": false,
   "isInternetEnabled": false,
   "language": "python",
   "sourceType": "notebook"
  },
  "kernelspec": {
   "display_name": "Python 3",
   "language": "python",
   "name": "python3"
  },
  "language_info": {
   "codemirror_mode": {
    "name": "ipython",
    "version": 3
   },
   "file_extension": ".py",
   "mimetype": "text/x-python",
   "name": "python",
   "nbconvert_exporter": "python",
   "pygments_lexer": "ipython3",
   "version": "3.10.12"
  },
  "papermill": {
   "default_parameters": {},
   "duration": 8.350826,
   "end_time": "2023-11-09T09:56:34.302269",
   "environment_variables": {},
   "exception": null,
   "input_path": "__notebook__.ipynb",
   "output_path": "__notebook__.ipynb",
   "parameters": {},
   "start_time": "2023-11-09T09:56:25.951443",
   "version": "2.4.0"
  }
 },
 "nbformat": 4,
 "nbformat_minor": 5
}
