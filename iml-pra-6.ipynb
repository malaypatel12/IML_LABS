{
 "cells": [
  {
   "cell_type": "code",
   "execution_count": 1,
   "id": "323e23e6",
   "metadata": {
    "_cell_guid": "b1076dfc-b9ad-4769-8c92-a6c4dae69d19",
    "_uuid": "8f2839f25d086af736a60e9eeb907d3b93b6e0e5",
    "execution": {
     "iopub.execute_input": "2023-10-06T06:47:59.735124Z",
     "iopub.status.busy": "2023-10-06T06:47:59.734709Z",
     "iopub.status.idle": "2023-10-06T06:48:00.119135Z",
     "shell.execute_reply": "2023-10-06T06:48:00.117833Z"
    },
    "papermill": {
     "duration": 0.391582,
     "end_time": "2023-10-06T06:48:00.121667",
     "exception": false,
     "start_time": "2023-10-06T06:47:59.730085",
     "status": "completed"
    },
    "tags": []
   },
   "outputs": [],
   "source": [
    "# This Python 3 environment comes with many helpful analytics libraries installed\n",
    "# It is defined by the kaggle/python Docker image: https://github.com/kaggle/docker-python\n",
    "# For example, here's several helpful packages to load\n",
    "\n",
    "import numpy as np # linear algebra\n",
    "import pandas as pd # data processing, CSV file I/O (e.g. pd.read_csv)\n",
    "\n",
    "# Input data files are available in the read-only \"../input/\" directory\n",
    "# For example, running this (by clicking run or pressing Shift+Enter) will list all files under the input directory\n",
    "\n",
    "import os\n",
    "for dirname, _, filenames in os.walk('/kaggle/input'):\n",
    "    for filename in filenames:\n",
    "        print(os.path.join(dirname, filename))\n",
    "\n",
    "# You can write up to 20GB to the current directory (/kaggle/working/) that gets preserved as output when you create a version using \"Save & Run All\" \n",
    "# You can also write temporary files to /kaggle/temp/, but they won't be saved outside of the current session"
   ]
  },
  {
   "cell_type": "code",
   "execution_count": 2,
   "id": "fdb343d6",
   "metadata": {
    "execution": {
     "iopub.execute_input": "2023-10-06T06:48:00.130641Z",
     "iopub.status.busy": "2023-10-06T06:48:00.129794Z",
     "iopub.status.idle": "2023-10-06T06:48:00.142956Z",
     "shell.execute_reply": "2023-10-06T06:48:00.141788Z"
    },
    "papermill": {
     "duration": 0.021781,
     "end_time": "2023-10-06T06:48:00.145882",
     "exception": false,
     "start_time": "2023-10-06T06:48:00.124101",
     "status": "completed"
    },
    "tags": []
   },
   "outputs": [
    {
     "name": "stdout",
     "output_type": "stream",
     "text": [
      "Numpy array\n",
      "\n",
      " [ 1  5  9 10 13] \n",
      "\n",
      "Pandas Series\n",
      "\n",
      " 0     1\n",
      "1     5\n",
      "2     9\n",
      "3    10\n",
      "4    13\n",
      "dtype: int64\n"
     ]
    }
   ],
   "source": [
    "\"\"\"\n",
    "Name:- Bavarva malay\n",
    "Enrollment:-216270307085\n",
    "to convert a NumPy array to a Pandas series\n",
    "\n",
    "\"\"\"\n",
    "import pandas as pd\n",
    "import numpy as np\n",
    "\n",
    "\n",
    "arr=np.array([1,5,9,10,13])\n",
    "print(\"Numpy array\\n\\n\",arr,\"\\n\")\n",
    "\n",
    "new_arr=pd.Series(arr)\n",
    "print(\"Pandas Series\\n\\n\",new_arr)"
   ]
  },
  {
   "cell_type": "code",
   "execution_count": 3,
   "id": "c08dcb9b",
   "metadata": {
    "execution": {
     "iopub.execute_input": "2023-10-06T06:48:00.153795Z",
     "iopub.status.busy": "2023-10-06T06:48:00.153350Z",
     "iopub.status.idle": "2023-10-06T06:48:00.179791Z",
     "shell.execute_reply": "2023-10-06T06:48:00.177851Z"
    },
    "papermill": {
     "duration": 0.0338,
     "end_time": "2023-10-06T06:48:00.182618",
     "exception": false,
     "start_time": "2023-10-06T06:48:00.148818",
     "status": "completed"
    },
    "tags": []
   },
   "outputs": [
    {
     "name": "stdout",
     "output_type": "stream",
     "text": [
      "DataFram Array\n",
      "\n",
      "     Name\n",
      "0  malay\n",
      "1   Meet\n",
      "2  Mohan\n",
      "\n",
      "Converting Dataframe To series\n",
      "\n",
      " 0    malay\n",
      "1     Meet\n",
      "2    Mohan\n",
      "Name: Name, dtype: object\n"
     ]
    }
   ],
   "source": [
    "\"\"\"\n",
    "Name:- Bavarva malay\n",
    "Enrollment:-216270307085\n",
    "to convert the first column of a DataFrame as a Series\n",
    "\n",
    "\"\"\"\n",
    "\n",
    "import pandas as pd\n",
    "import numpy as np\n",
    "\n",
    "print(\"DataFram Array\")\n",
    "arr=pd.DataFrame({'Name':['malay','Meet','Mohan'],'Age':[19,20,18]})\n",
    "\n",
    "\n",
    "new_arr= pd.DataFrame(arr, columns=[\"Name\"])\n",
    "\n",
    "\n",
    "print(\"\\n\",new_arr)\n",
    "\n",
    "arr_ser=new_arr.squeeze()\n",
    "print(\"\\nConverting Dataframe To series\")\n",
    "print(\"\\n\",arr_ser)\n",
    "\n",
    "\n",
    "\n",
    "\n",
    "\n"
   ]
  },
  {
   "cell_type": "code",
   "execution_count": 4,
   "id": "fca92989",
   "metadata": {
    "execution": {
     "iopub.execute_input": "2023-10-06T06:48:00.191860Z",
     "iopub.status.busy": "2023-10-06T06:48:00.191390Z",
     "iopub.status.idle": "2023-10-06T06:48:00.203828Z",
     "shell.execute_reply": "2023-10-06T06:48:00.202110Z"
    },
    "papermill": {
     "duration": 0.020204,
     "end_time": "2023-10-06T06:48:00.207027",
     "exception": false,
     "start_time": "2023-10-06T06:48:00.186823",
     "status": "completed"
    },
    "tags": []
   },
   "outputs": [
    {
     "name": "stdout",
     "output_type": "stream",
     "text": [
      "0    5\n",
      "1    8\n",
      "2    9\n",
      "3    7\n",
      "4    6\n",
      "dtype: int64\n",
      "Mean is  7.0\n",
      "Standard deviation is  1.5811388300841898\n"
     ]
    }
   ],
   "source": [
    "\"\"\"\n",
    "Name:- Bavarva malay\n",
    "Enrollment:-216270307085\n",
    "to create the mean and standard deviation of the data of a given Series\n",
    "\n",
    "\"\"\"\n",
    "import pandas as pd\n",
    "\n",
    "arr=pd.Series([5,8,9,7,6])\n",
    "print(arr)\n",
    "\n",
    "print(\"Mean is \",arr.mean())\n",
    "print(\"Standard deviation is \",arr.std())\n",
    "\n",
    "\n"
   ]
  },
  {
   "cell_type": "code",
   "execution_count": 5,
   "id": "dd8c9824",
   "metadata": {
    "execution": {
     "iopub.execute_input": "2023-10-06T06:48:00.214693Z",
     "iopub.status.busy": "2023-10-06T06:48:00.214264Z",
     "iopub.status.idle": "2023-10-06T06:48:00.226604Z",
     "shell.execute_reply": "2023-10-06T06:48:00.225330Z"
    },
    "papermill": {
     "duration": 0.019075,
     "end_time": "2023-10-06T06:48:00.229011",
     "exception": false,
     "start_time": "2023-10-06T06:48:00.209936",
     "status": "completed"
    },
    "tags": []
   },
   "outputs": [
    {
     "name": "stdout",
     "output_type": "stream",
     "text": [
      "Given Series is\n",
      " 0     100\n",
      "1     120\n",
      "2     118\n",
      "3    1190\n",
      "4      16\n",
      "dtype: int64\n",
      "\n",
      "Sorting a given series\n",
      " 4      16\n",
      "0     100\n",
      "2     118\n",
      "1     120\n",
      "3    1190\n",
      "dtype: int64\n"
     ]
    }
   ],
   "source": [
    "\"\"\"\n",
    "Name:- Bavarva malay\n",
    "Enrollment:-216270307085\n",
    "to sort a given Series\n",
    "\n",
    "\"\"\"\n",
    "\n",
    "import pandas as pd\n",
    "\n",
    "arr=pd.Series([100,120,118,1190,16])\n",
    "print(\"Given Series is\\n\",arr)\n",
    "sort=arr.sort_values(ascending = True)\n",
    "\n",
    "print(\"\\nSorting a given series\\n\",sort)\n"
   ]
  },
  {
   "cell_type": "code",
   "execution_count": null,
   "id": "c7d040f9",
   "metadata": {
    "papermill": {
     "duration": 0.002207,
     "end_time": "2023-10-06T06:48:00.233911",
     "exception": false,
     "start_time": "2023-10-06T06:48:00.231704",
     "status": "completed"
    },
    "tags": []
   },
   "outputs": [],
   "source": []
  }
 ],
 "metadata": {
  "kernelspec": {
   "display_name": "Python 3",
   "language": "python",
   "name": "python3"
  },
  "language_info": {
   "codemirror_mode": {
    "name": "ipython",
    "version": 3
   },
   "file_extension": ".py",
   "mimetype": "text/x-python",
   "name": "python",
   "nbconvert_exporter": "python",
   "pygments_lexer": "ipython3",
   "version": "3.10.12"
  },
  "papermill": {
   "default_parameters": {},
   "duration": 4.304064,
   "end_time": "2023-10-06T06:48:00.757620",
   "environment_variables": {},
   "exception": null,
   "input_path": "__notebook__.ipynb",
   "output_path": "__notebook__.ipynb",
   "parameters": {},
   "start_time": "2023-10-06T06:47:56.453556",
   "version": "2.4.0"
  }
 },
 "nbformat": 4,
 "nbformat_minor": 5
}
