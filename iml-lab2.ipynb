{
 "cells": [
  {
   "cell_type": "code",
   "execution_count": 1,
   "id": "fed840fb",
   "metadata": {
    "execution": {
     "iopub.execute_input": "2023-10-06T06:06:55.248241Z",
     "iopub.status.busy": "2023-10-06T06:06:55.247885Z",
     "iopub.status.idle": "2023-10-06T06:06:55.257566Z",
     "shell.execute_reply": "2023-10-06T06:06:55.256688Z"
    },
    "papermill": {
     "duration": 0.019547,
     "end_time": "2023-10-06T06:06:55.260127",
     "exception": false,
     "start_time": "2023-10-06T06:06:55.240580",
     "status": "completed"
    },
    "tags": []
   },
   "outputs": [
    {
     "name": "stdout",
     "output_type": "stream",
     "text": [
      "hello\n"
     ]
    }
   ],
   "source": [
    "import numpy as np\n",
    "\n",
    "print(\"hello\")\n"
   ]
  },
  {
   "cell_type": "code",
   "execution_count": 2,
   "id": "f681a2ed",
   "metadata": {
    "execution": {
     "iopub.execute_input": "2023-10-06T06:06:55.274829Z",
     "iopub.status.busy": "2023-10-06T06:06:55.274113Z",
     "iopub.status.idle": "2023-10-06T06:06:55.282008Z",
     "shell.execute_reply": "2023-10-06T06:06:55.280702Z"
    },
    "papermill": {
     "duration": 0.015971,
     "end_time": "2023-10-06T06:06:55.284078",
     "exception": false,
     "start_time": "2023-10-06T06:06:55.268107",
     "status": "completed"
    },
    "tags": []
   },
   "outputs": [
    {
     "name": "stdout",
     "output_type": "stream",
     "text": [
      "[[1 2 3]\n",
      " [1 3 4]\n",
      " [7 8 9]]\n"
     ]
    }
   ],
   "source": [
    "arr1=np.array([[1,2,3],[1,3,4],[7,8,9]])\n",
    "print(arr1)"
   ]
  },
  {
   "cell_type": "code",
   "execution_count": 3,
   "id": "09721600",
   "metadata": {
    "_cell_guid": "b1076dfc-b9ad-4769-8c92-a6c4dae69d19",
    "_uuid": "8f2839f25d086af736a60e9eeb907d3b93b6e0e5",
    "execution": {
     "iopub.execute_input": "2023-10-06T06:06:55.292162Z",
     "iopub.status.busy": "2023-10-06T06:06:55.291853Z",
     "iopub.status.idle": "2023-10-06T06:06:55.681118Z",
     "shell.execute_reply": "2023-10-06T06:06:55.679836Z"
    },
    "papermill": {
     "duration": 0.396264,
     "end_time": "2023-10-06T06:06:55.683571",
     "exception": false,
     "start_time": "2023-10-06T06:06:55.287307",
     "status": "completed"
    },
    "tags": []
   },
   "outputs": [],
   "source": [
    "# This Python 3 environment comes with many helpful analytics libraries installed\n",
    "# It is defined by the kaggle/python Docker image: https://github.com/kaggle/docker-python\n",
    "# For example, here's several helpful packages to load\n",
    "\n",
    "import numpy as np # linear algebra\n",
    "import pandas as pd # data processing, CSV file I/O (e.g. pd.read_csv)\n",
    "\n",
    "# Input data files are available in the read-only \"../input/\" directory\n",
    "# For example, running this (by clicking run or pressing Shift+Enter) will list all files under the input directory\n",
    "\n",
    "\n"
   ]
  },
  {
   "cell_type": "code",
   "execution_count": 4,
   "id": "823025a1",
   "metadata": {
    "execution": {
     "iopub.execute_input": "2023-10-06T06:06:55.695574Z",
     "iopub.status.busy": "2023-10-06T06:06:55.695079Z",
     "iopub.status.idle": "2023-10-06T06:06:55.703184Z",
     "shell.execute_reply": "2023-10-06T06:06:55.702435Z"
    },
    "papermill": {
     "duration": 0.014759,
     "end_time": "2023-10-06T06:06:55.705217",
     "exception": false,
     "start_time": "2023-10-06T06:06:55.690458",
     "status": "completed"
    },
    "tags": []
   },
   "outputs": [
    {
     "name": "stdout",
     "output_type": "stream",
     "text": [
      "3*3 matrix \n",
      "\n",
      " [[9 9 3]\n",
      " [9 2 8]\n",
      " [8 7 4]]\n"
     ]
    }
   ],
   "source": [
    "\"\"\"\n",
    "to create a 3x3 matrix with values ranging from 2 to 10\n",
    "Name:- Bavarva Malay \n",
    "Enrollment:-216270307085\n",
    "\"\"\"\n",
    "\n",
    "import numpy as np\n",
    "\n",
    "h = np.random.randint(2, 10,(3, 3))\n",
    "print(\"3*3 matrix \\n\\n\", h)\n",
    "\n",
    "\n"
   ]
  },
  {
   "cell_type": "code",
   "execution_count": 5,
   "id": "41fc1087",
   "metadata": {
    "execution": {
     "iopub.execute_input": "2023-10-06T06:06:55.713814Z",
     "iopub.status.busy": "2023-10-06T06:06:55.712861Z",
     "iopub.status.idle": "2023-10-06T06:06:55.718813Z",
     "shell.execute_reply": "2023-10-06T06:06:55.717784Z"
    },
    "papermill": {
     "duration": 0.012309,
     "end_time": "2023-10-06T06:06:55.720881",
     "exception": false,
     "start_time": "2023-10-06T06:06:55.708572",
     "status": "completed"
    },
    "tags": []
   },
   "outputs": [
    {
     "name": "stdout",
     "output_type": "stream",
     "text": [
      "\n",
      "Before appending\n",
      "[1 2 3]\n",
      "After appending to last\n",
      "[1 2 3 4]\n"
     ]
    }
   ],
   "source": [
    "\"\"\"\n",
    "to append values at the end of an array\n",
    "Name:- Bavarva Malay \n",
    "Enrollment:-216270307085\n",
    "\"\"\"\n",
    "\n",
    "import numpy as np\n",
    "\n",
    "arr=np.array([1,2,3])\n",
    "print(\"\\nBefore appending\")\n",
    "print(arr)\n",
    "new_arr=np.append(arr,4)\n",
    "print(\"After appending to last\")\n",
    "print(new_arr)\n",
    "\n",
    "\n"
   ]
  },
  {
   "cell_type": "code",
   "execution_count": 6,
   "id": "5fbb8318",
   "metadata": {
    "execution": {
     "iopub.execute_input": "2023-10-06T06:06:55.729021Z",
     "iopub.status.busy": "2023-10-06T06:06:55.728675Z",
     "iopub.status.idle": "2023-10-06T06:06:55.735037Z",
     "shell.execute_reply": "2023-10-06T06:06:55.734053Z"
    },
    "papermill": {
     "duration": 0.013561,
     "end_time": "2023-10-06T06:06:55.737757",
     "exception": false,
     "start_time": "2023-10-06T06:06:55.724196",
     "status": "completed"
    },
    "tags": []
   },
   "outputs": [
    {
     "name": "stdout",
     "output_type": "stream",
     "text": [
      "3*2 array\n",
      "[[1 2]\n",
      " [3 4]\n",
      " [5 6]] \n",
      "\n",
      "after changing its shape from 3*2 to 2*3\n",
      "\n",
      "[[1 2 3]\n",
      " [4 5 6]]\n"
     ]
    }
   ],
   "source": [
    "\"\"\"\n",
    "to create another shape from an array without changing its data (3*2 to 2*3)\n",
    "Name:- Bavarva Malay \n",
    "Enrollment:-216270307085\n",
    "\"\"\"\n",
    "\n",
    "import numpy as np\n",
    "\n",
    "print(\"3*2 array\")\n",
    "arr=np.array(([1,2],[3,4],[5,6]))\n",
    "print(arr,\"\\n\")\n",
    "\n",
    "print(\"after changing its shape from 3*2 to 2*3\\n\")\n",
    "new_arr=arr.reshape(2,3)\n",
    "print(new_arr)\n",
    "\n",
    "\n",
    "\n"
   ]
  },
  {
   "cell_type": "code",
   "execution_count": 7,
   "id": "e949f25a",
   "metadata": {
    "execution": {
     "iopub.execute_input": "2023-10-06T06:06:55.746331Z",
     "iopub.status.busy": "2023-10-06T06:06:55.746002Z",
     "iopub.status.idle": "2023-10-06T06:06:55.752969Z",
     "shell.execute_reply": "2023-10-06T06:06:55.751922Z"
    },
    "papermill": {
     "duration": 0.014148,
     "end_time": "2023-10-06T06:06:55.755466",
     "exception": false,
     "start_time": "2023-10-06T06:06:55.741318",
     "status": "completed"
    },
    "tags": []
   },
   "outputs": [
    {
     "name": "stdout",
     "output_type": "stream",
     "text": [
      "[ 1  2  3  4  5  6  7  8  9 10 11 12 13 14]\n",
      "[1 2]\n",
      "[3 4 5 6]\n",
      "[ 7  8  9 10 11 12 13 14]\n"
     ]
    }
   ],
   "source": [
    "\"\"\"\n",
    "practical 3\n",
    "to split an array of 14 elements into 3 arrays, each with 2, 4, and 8 elements in the \n",
    "original orde\n",
    "Name:- Bavarva Malay \n",
    "Enrollment:-216270307085\n",
    "\n",
    "\"\"\"\n",
    "\n",
    "import numpy as np\n",
    "\n",
    "arr=np.array([1,2,3,4,5,6,7,8,9,10,11,12,13,14])\n",
    "print(arr)\n",
    "arr1,arr2,arr3 = np.split(arr,[2,6])\n",
    "print(arr1)\n",
    "print(arr2)\n",
    "print(arr3)\n"
   ]
  },
  {
   "cell_type": "code",
   "execution_count": 8,
   "id": "d1ac5bbd",
   "metadata": {
    "execution": {
     "iopub.execute_input": "2023-10-06T06:06:55.764162Z",
     "iopub.status.busy": "2023-10-06T06:06:55.763383Z",
     "iopub.status.idle": "2023-10-06T06:06:55.771109Z",
     "shell.execute_reply": "2023-10-06T06:06:55.769846Z"
    },
    "papermill": {
     "duration": 0.01431,
     "end_time": "2023-10-06T06:06:55.773281",
     "exception": false,
     "start_time": "2023-10-06T06:06:55.758971",
     "status": "completed"
    },
    "tags": []
   },
   "outputs": [
    {
     "name": "stdout",
     "output_type": "stream",
     "text": [
      "[[1 2 3]\n",
      " [4 5 6]]\n",
      "[[ 7  8  9]\n",
      " [10 11 12]]\n",
      "\n",
      "stack arrays horizontally (column wise): \n",
      " [[ 1  2  3  7  8  9]\n",
      " [ 4  5  6 10 11 12]]\n"
     ]
    }
   ],
   "source": [
    "\"\"\"\n",
    "practical 3\n",
    "to stack arrays horizontally (column wise)\n",
    "Name:- Bavarva Malay \n",
    "Enrollment:-216270307085\n",
    "\n",
    "\"\"\"\n",
    "import numpy as np\n",
    "\n",
    "arr1 = np.array([[1,2,3],\n",
    "            [4,5,6]])\n",
    "\n",
    "arr2 = np.array([[7, 8, 9],\n",
    "                 [10, 11, 12]])\n",
    "print( arr1)\n",
    "print( arr2)\n",
    "\n",
    "\n",
    "arr3 = np.hstack([arr1, arr2])\n",
    "print(\"\\nstack arrays horizontally (column wise): \\n\", arr3)"
   ]
  },
  {
   "cell_type": "code",
   "execution_count": 9,
   "id": "881d4d7d",
   "metadata": {
    "execution": {
     "iopub.execute_input": "2023-10-06T06:06:55.782502Z",
     "iopub.status.busy": "2023-10-06T06:06:55.781471Z",
     "iopub.status.idle": "2023-10-06T06:06:55.791013Z",
     "shell.execute_reply": "2023-10-06T06:06:55.789785Z"
    },
    "papermill": {
     "duration": 0.016115,
     "end_time": "2023-10-06T06:06:55.792983",
     "exception": false,
     "start_time": "2023-10-06T06:06:55.776868",
     "status": "completed"
    },
    "tags": []
   },
   "outputs": [
    {
     "name": "stdout",
     "output_type": "stream",
     "text": [
      "Addition\n",
      "[3 4 5 6] \n",
      "\n",
      "subtract\n",
      "[-1  0  1  2] \n",
      "\n",
      "divide\n",
      "[0.5 1.  1.5 2. ] \n",
      "\n",
      "multiply\n",
      "[2 4 6 8] \n",
      "\n"
     ]
    }
   ],
   "source": [
    "\"\"\"\n",
    "practical 4\n",
    "to add, subtract, multiply, divide arguments element-wise\n",
    "original orde\n",
    "Name:- Bavarva Malay \n",
    "Enrollment:-216270307085\n",
    "\"\"\"\n",
    "\n",
    "\n",
    "arr=np.array([1,2,3,4])\n",
    "print(\"Addition\")\n",
    "print(np.add(arr,2),\"\\n\")\n",
    "\n",
    "arr=np.array([1,2,3,4])\n",
    "print(\"subtract\")\n",
    "print(np.subtract(arr,2),\"\\n\")\n",
    "\n",
    "arr=np.array([1,2,3,4])\n",
    "print(\"divide\")\n",
    "print(np.divide(arr,2),\"\\n\")\n",
    "\n",
    "arr=np.array([1,2,3,4])\n",
    "print(\"multiply\")\n",
    "print(np.multiply(arr,2),\"\\n\")\n",
    "\n",
    "\n",
    "\n"
   ]
  },
  {
   "cell_type": "code",
   "execution_count": 10,
   "id": "87e7cdeb",
   "metadata": {
    "execution": {
     "iopub.execute_input": "2023-10-06T06:06:55.801912Z",
     "iopub.status.busy": "2023-10-06T06:06:55.801540Z",
     "iopub.status.idle": "2023-10-06T06:06:55.807994Z",
     "shell.execute_reply": "2023-10-06T06:06:55.806911Z"
    },
    "papermill": {
     "duration": 0.013086,
     "end_time": "2023-10-06T06:06:55.809832",
     "exception": false,
     "start_time": "2023-10-06T06:06:55.796746",
     "status": "completed"
    },
    "tags": []
   },
   "outputs": [
    {
     "name": "stdout",
     "output_type": "stream",
     "text": [
      "before round the array\n",
      "[1.  2.  3.  4.5 5.6 3.4] \n",
      "\n",
      "after round the array\n",
      "[1. 2. 3. 4. 6. 3.] \n",
      "\n"
     ]
    }
   ],
   "source": [
    "\"\"\"\n",
    "practical 4\n",
    "to round elements of the array to the nearest integer\n",
    "Name:- Bavarva Malay \n",
    "Enrollment:-216270307085\n",
    "\"\"\"\n",
    "\n",
    "arr=np.array([1,2,3,4.5,5.6,3.4])\n",
    "print(\"before round the array\")\n",
    "print(arr,\"\\n\")\n",
    "\n",
    "print(\"after round the array\")\n",
    "print(np.round(arr),\"\\n\")\n"
   ]
  },
  {
   "cell_type": "code",
   "execution_count": 11,
   "id": "40552eb7",
   "metadata": {
    "execution": {
     "iopub.execute_input": "2023-10-06T06:06:55.818991Z",
     "iopub.status.busy": "2023-10-06T06:06:55.817907Z",
     "iopub.status.idle": "2023-10-06T06:06:55.824945Z",
     "shell.execute_reply": "2023-10-06T06:06:55.823660Z"
    },
    "papermill": {
     "duration": 0.013457,
     "end_time": "2023-10-06T06:06:55.826790",
     "exception": false,
     "start_time": "2023-10-06T06:06:55.813333",
     "status": "completed"
    },
    "tags": []
   },
   "outputs": [
    {
     "name": "stdout",
     "output_type": "stream",
     "text": [
      "[[1 2 3]\n",
      " [4 5 6]] \n",
      "\n",
      "calculated mean\n",
      "3.5\n"
     ]
    }
   ],
   "source": [
    "\"\"\"\n",
    "practical 4\n",
    "to calculate mean across dimension, in a 2D numpy array\n",
    "Name:- Bavarva Malay \n",
    "Enrollment:-216270307085\n",
    "\"\"\"\n",
    "\n",
    "arr=np.array([[1,2,3],[4,5,6]])\n",
    "print(arr,\"\\n\")\n",
    "\n",
    "print(\"calculated mean\")\n",
    "print(np.mean(arr))"
   ]
  },
  {
   "cell_type": "code",
   "execution_count": null,
   "id": "fe538fce",
   "metadata": {
    "papermill": {
     "duration": 0.003325,
     "end_time": "2023-10-06T06:06:55.833820",
     "exception": false,
     "start_time": "2023-10-06T06:06:55.830495",
     "status": "completed"
    },
    "tags": []
   },
   "outputs": [],
   "source": []
  }
 ],
 "metadata": {
  "kernelspec": {
   "display_name": "Python 3",
   "language": "python",
   "name": "python3"
  },
  "language_info": {
   "codemirror_mode": {
    "name": "ipython",
    "version": 3
   },
   "file_extension": ".py",
   "mimetype": "text/x-python",
   "name": "python",
   "nbconvert_exporter": "python",
   "pygments_lexer": "ipython3",
   "version": "3.10.12"
  },
  "papermill": {
   "default_parameters": {},
   "duration": 4.331402,
   "end_time": "2023-10-06T06:06:56.356697",
   "environment_variables": {},
   "exception": null,
   "input_path": "__notebook__.ipynb",
   "output_path": "__notebook__.ipynb",
   "parameters": {},
   "start_time": "2023-10-06T06:06:52.025295",
   "version": "2.4.0"
  }
 },
 "nbformat": 4,
 "nbformat_minor": 5
}
